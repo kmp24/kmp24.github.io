{
 "cells": [
  {
   "cell_type": "code",
   "execution_count": 3,
   "metadata": {},
   "outputs": [],
   "source": [
    "import folium\n",
    "import geopandas as gpd\n",
    "import rasterio\n",
    "from rasterio import plot\n",
    "import numpy as np\n",
    "from rasterio.mask import mask\n",
    "import os\n",
    "from datetime import date, datetime, timedelta\n",
    "import pandas as pd"
   ]
  },
  {
   "cell_type": "code",
   "execution_count": 4,
   "metadata": {},
   "outputs": [],
   "source": [
    "## NIFC has replaced GeoMAC as a the official source of perimeters in the US.\n",
    "## There are 2 files, active and archived. The active file below has the most recent perimeters for the current year.\n",
    "fires = gpd.read_file(r'https://opendata.arcgis.com/datasets/5da472c6d27b4b67970acc7b5044c862_0.geojson')\n",
    "# Alternative when NIFC down https://services9.arcgis.com/RHVPKKiFTONKtxq3/ArcGIS/rest/services/USA_Wildfires_v1/FeatureServer/1 (manual download)\n",
    "\n",
    "# Lots of issues with invalid geometries - remove them\n",
    "#fires = fires.loc[fires.is_valid]\n",
    "\n",
    "# Import county data and filter by state\n",
    "counties = gpd.read_file(r'Z:\\FirePerimeters\\fl_counties.geojson')"
   ]
  },
  {
   "cell_type": "code",
   "execution_count": 5,
   "metadata": {},
   "outputs": [],
   "source": [
    "# Fire and state where it is located\n",
    "firename = 'Glass'\n",
    "state = 'CA'\n",
    "fireyear = '2020'"
   ]
  },
  {
   "cell_type": "code",
   "execution_count": 6,
   "metadata": {},
   "outputs": [],
   "source": [
    "# Update the basepath based on the most recent FireLine update maintained in the list below\n",
    "current = '2019'\n",
    "prev = '2018'\n",
    "\n",
    "# Where the score tifs are located\n",
    "baset = r'Z:\\ArcFireLine\\FireRing\\Geotiff/'\n",
    "\n",
    "# Use string, not os.path.join, for gdal command later in the script\n",
    "if os.path.exists(baset + current):\n",
    "    basetif = baset + current\n",
    "else:\n",
    "    basetif = baset + prev\n",
    "\n",
    "# Where to store the outputs\n",
    "base = r'Z:\\\\FirePerimeters'\n",
    "\n",
    "# Score tif\n",
    "wfhsfile = os.path.join(basetif, state, state + '_wfhs.tif')"
   ]
  },
  {
   "cell_type": "code",
   "execution_count": 7,
   "metadata": {},
   "outputs": [],
   "source": [
    "def invalidGeom(infile):\n",
    "    #if not infile.is_valid.bool():\n",
    "    f = infile['geometry'].buffer(0)\n",
    "    infile['geometry'] = f\n",
    "    return infile"
   ]
  },
  {
   "cell_type": "code",
   "execution_count": 8,
   "metadata": {},
   "outputs": [
    {
     "name": "stderr",
     "output_type": "stream",
     "text": [
      "C:\\Python38\\lib\\site-packages\\geopandas\\geoseries.py:358: UserWarning: GeoSeries.notna() previously returned False for both missing (None) and empty geometries. Now, it only returns False for missing values. Since the calling GeoSeries contains empty geometries, the result has changed compared to previous versions of GeoPandas.\n",
      "Given a GeoSeries 's', you can use '~s.is_empty & s.notna()' to get back the old behaviour.\n",
      "\n",
      "To further ignore this warning, you can do: \n",
      "import warnings; warnings.filterwarnings('ignore', 'GeoSeries.notna', UserWarning)\n",
      "  return self.notna()\n"
     ]
    }
   ],
   "source": [
    "# Format the fire names in the NIFC file, clip to get the county/state\n",
    "county = counties.loc[counties.state == state]\n",
    "fires.IncidentName=fires.IncidentName.str.title().str.strip()\n",
    "\n",
    "invalidGeom(fires)\n",
    "\n",
    "firestate = gpd.clip(fires,county)\n",
    "firestate['state'],firestate['county'] = state,county.fl"
   ]
  },
  {
   "cell_type": "code",
   "execution_count": 9,
   "metadata": {},
   "outputs": [
    {
     "name": "stdout",
     "output_type": "stream",
     "text": [
      "1 fire(s) selected\n"
     ]
    },
    {
     "name": "stderr",
     "output_type": "stream",
     "text": [
      "<ipython-input-7-7dfb6ba94d16>:4: SettingWithCopyWarning: \n",
      "A value is trying to be set on a copy of a slice from a DataFrame.\n",
      "Try using .loc[row_indexer,col_indexer] = value instead\n",
      "\n",
      "See the caveats in the documentation: https://pandas.pydata.org/pandas-docs/stable/user_guide/indexing.html#returning-a-view-versus-a-copy\n",
      "  infile['geometry'] = f\n"
     ]
    }
   ],
   "source": [
    "# Select the fire by name\n",
    "fire = firestate.loc[firestate.IncidentName == firename]\n",
    "                     \n",
    "# Check that the correct fire is selected\n",
    "if len(fire) < 1:\n",
    "    print('Search for a manually created perimeter file')\n",
    "    try:\n",
    "        fire = gpd.read_file(os.path.join(r'Z:\\FirePerimeters', fireyear, state,firename, firename.replace(' ','_')+'.gpkg'))\n",
    "        print('Selected a manually created file')\n",
    "    except:\n",
    "        print('Try complex name')\n",
    "    if len(fire) < 1:\n",
    "        try:\n",
    "        # Try for a manually created perimeter file (Remember to create 'IncidentName' and 'DateCurrent' fields)\n",
    "            fire = fires.loc[(~fires.ComplexName.isnull()) & (fires.ComplexName.str.contains(firename))]\n",
    "            fire.IncidentName = fire.ComplexName\n",
    "            fire['GISAcres'] = fire['GISAcres'].sum()\n",
    "            fire = fire.dissolve(by='ComplexName')\n",
    "            print('Selected by Complex Name')\n",
    "        except:\n",
    "            print('Try partial string')\n",
    "        if len(fire) < 1:\n",
    "            try:\n",
    "                fire = firestate.loc[firestate.IncidentName.str.contains(firename.title().strip())]\n",
    "            except:\n",
    "                print('No matches')\n",
    "\n",
    "elif len(fire) > 1:\n",
    "    try:\n",
    "        fire = firestate.loc[firestate.IncidentName.str.contains(firename.title().strip())]\n",
    "        print('Multiple fires selected')\n",
    "    except:\n",
    "        print('No matches')\n",
    "\n",
    "    \n",
    "\n",
    "# Sometimes the NIFC data has invalid geometries, use buffer to fix\n",
    "if len(fire) == 1:\n",
    "    invalidGeom(fire)\n",
    "\n",
    "print(str(len(fire)) + ' fire(s) selected')"
   ]
  },
  {
   "cell_type": "code",
   "execution_count": 10,
   "metadata": {},
   "outputs": [
    {
     "data": {
      "text/plain": [
       "'2020-09-30T03:59:52'"
      ]
     },
     "execution_count": 10,
     "metadata": {},
     "output_type": "execute_result"
    }
   ],
   "source": [
    "# If multiple fires, select the correct fire\n",
    "#fire = fire.iloc[[1]] #Double bracket to maintain datatype when using iloc with geopandas\n",
    "\n",
    "fire.iloc[0].DateCurrent"
   ]
  },
  {
   "cell_type": "code",
   "execution_count": 11,
   "metadata": {},
   "outputs": [],
   "source": [
    "%%capture\n",
    "def boundsfire(df):\n",
    "    # Get the bounds of the fire for the folium map\n",
    "    minmax = ['minx','miny','maxx','maxy']\n",
    "    for f in minmax:\n",
    "        df[f] = df.bounds[f]\n",
    "    return df[f] \n",
    "\n",
    "# Create the date field for the marketing text\n",
    "def dateNIFC(datefield):\n",
    "    datefield = pd.to_datetime(datefield)\n",
    "    dt_string = datefield.strftime(\"%Y-%m-%d %H:%M:%S\")\n",
    "    dt = datefield.strftime(\"%m-%d-%Y\")\n",
    "    return dt\n",
    "\n",
    "date = dateNIFC(fire.iloc[0].DateCurrent)\n",
    "\n",
    "boundsfire(fire)"
   ]
  },
  {
   "cell_type": "code",
   "execution_count": 12,
   "metadata": {},
   "outputs": [],
   "source": [
    "# Create a gpkg for the fire to clip the score tif data\n",
    "# Remove any spaces from fire name\n",
    "x = str(fire.iloc[0].IncidentName).replace(' ','_').replace('-','_')\n",
    "\n",
    "# fire data output\n",
    "basepath = os.path.join(base,fireyear,state,fire.iloc[0].IncidentName)\n",
    "if not os.path.exists(basepath):\n",
    "    os.makedirs(basepath)\n",
    "\n",
    "fireshp = os.path.join(basepath,x+'.gpkg')\n",
    "fireshpshp = os.path.join(basepath,x+'.shp')\n",
    "\n",
    "fire.to_file(fireshp, driver=\"GPKG\",OVERWRITE='YES')\n",
    "fire.to_file(fireshpshp,OVERWRITE='YES')"
   ]
  },
  {
   "cell_type": "code",
   "execution_count": 13,
   "metadata": {},
   "outputs": [
    {
     "name": "stdout",
     "output_type": "stream",
     "text": [
      "gdalwarp -cutline \"Z:\\\\FirePerimeters\\2020\\CA\\Glass\\Glass.gpkg\" -crop_to_cutline -dstalpha -dstnodata 255  -overwrite \"Z:\\ArcFireLine\\FireRing\\Geotiff/2019\\CA\\CA_wfhs.tif\" \"Z:\\\\FirePerimeters\\2020\\CA\\Glass\\Glass.tif\"\n"
     ]
    }
   ],
   "source": [
    "# paths for gdal command\n",
    "outfirepath = basepath +'\\\\'+ x +'.tif'\n",
    "infireshppath = basepath +'\\\\'+ x +'.gpkg'\n",
    "\n",
    "outfire = str('\"' +outfirepath+'\"')\n",
    "inwfhs = str('\"' +wfhsfile+'\"')\n",
    "infireshp = str('\"' +infireshppath+'\"')\n",
    "\n",
    "# Run gdal cmd to cut the raster to the fire polygon\n",
    "# Ensure connection through vpn\n",
    "cmd = \"gdalwarp -cutline \"+ infireshp +\" -crop_to_cutline -dstalpha -dstnodata 255  -overwrite \" + inwfhs + \" \" +  outfire\n",
    "os.system(cmd)\n",
    "print(cmd)"
   ]
  },
  {
   "cell_type": "code",
   "execution_count": 14,
   "metadata": {},
   "outputs": [],
   "source": [
    "def reclassify(src):\n",
    "    # Reclassfy the WFHS score for rendering in the map\n",
    "    global img\n",
    "    img = src.read(1)\n",
    "    img[img==0] = 0 #Negligible\n",
    "    img[img==1] = 1 #Low\n",
    "    img[np.where((img >=2) & (img <=3))] = 2 #Moderate\n",
    "    img[np.where((img>=4) & (img<=12))] = 3 #High\n",
    "    img[np.where((img>=13) & (img<=30))] = 4 #Extreme\n",
    "    return img\n",
    "\n",
    "def pixelCount(r, vals):\n",
    "    # Create a list of the raster values to summarize % of score categories\n",
    "    val_list = []\n",
    "    size = float(r.size)\n",
    "    for v in vals:\n",
    "        count = np.sum(r == v)\n",
    "        val_list.append(count)#/size for pct - can't use with alpha band/nodata\n",
    "    return val_list\n",
    "\n",
    "def pixelCountTest(r, vals):\n",
    "    # Create a list of the raster values to summarize % of score categories\n",
    "    val_list = []\n",
    "    size = float(r.size)\n",
    "    for v in vals:\n",
    "        count = np.sum(r == v)\n",
    "        pct = float(count/size)\n",
    "        val_list.append(pct)#/size for pct - can't use with alpha band/nodata\n",
    "    return val_list"
   ]
  },
  {
   "cell_type": "code",
   "execution_count": 15,
   "metadata": {},
   "outputs": [],
   "source": [
    "# Basemaps\n",
    "def cartoBasemap(miny, maxx):\n",
    "    global m\n",
    "    m = folium.Map([fire.miny, fire.maxx], zoom_start=5, tiles='cartodbpositron')\n",
    "    return m\n",
    "\n",
    "def esriBasemap(miny, maxx):\n",
    "    global m\n",
    "    tile = \"https://server.arcgisonline.com/ArcGIS/rest/services/World_Imagery/MapServer/tile/{z}/{y}/{x}\"\n",
    "    attribu = 'Tiles &copy; Esri &mdash; Source: Esri, i-cubed, USDA, USGS, AEX, GeoEye, Getmapping, Aerogrid, IGN, IGP, UPR-EGP, and the GIS User Community'\n",
    "    m = folium.Map([fire.miny, fire.maxx], zoom_start=9, tiles=tile,attr=attribu)\n",
    "    return m"
   ]
  },
  {
   "cell_type": "code",
   "execution_count": 16,
   "metadata": {},
   "outputs": [],
   "source": [
    "%%capture\n",
    "esriBasemap(fire.iloc[0].miny, fire.iloc[0].maxx)"
   ]
  },
  {
   "cell_type": "code",
   "execution_count": 17,
   "metadata": {},
   "outputs": [],
   "source": [
    "# WFHS display colors \n",
    "# r,g,b,a - change a to 0 for translucent, 1 for opaque\n",
    "wfhs_color = {\n",
    " 0: (233,233,238,1),\n",
    " 1: (243,242,6,1),\n",
    " 2: (253,187,15,1),\n",
    " 3: (244,119,33,1),\n",
    " 4: (208,22,38,1),\n",
    " 255: (0, 0, 0, 0)}"
   ]
  },
  {
   "cell_type": "code",
   "execution_count": 18,
   "metadata": {},
   "outputs": [
    {
     "name": "stdout",
     "output_type": "stream",
     "text": [
      "[[1424, 3347, 24891, 183990, 30738]]\n"
     ]
    }
   ],
   "source": [
    "# Add fire raster to map and calculate the % in each score category\n",
    "with rasterio.open(outfirepath) as src:\n",
    "    reclassify(src)\n",
    "    \n",
    "    ### Temporary workaround - lambda function assigns colormap incorrectly if the raster does not start at 0\n",
    "    ### Add 1 '0' value cell in west corner\n",
    "    img[0,0] = 0\n",
    "        \n",
    "    ## Folium map - optional for viewing fire\n",
    "    folium.raster_layers.ImageOverlay(img, colormap=(lambda x: wfhs_color[x]),\n",
    "                                 bounds =[[src.bounds.top, src.bounds.left], [src.bounds.bottom, src.bounds.right]]).add_to(m)\n",
    "    # calculate the pixel count for each score category\n",
    "    results = []\n",
    "    val_list = [0,1, 2, 3, 4] # WFHS reclass values \n",
    "    results.append(pixelCount(img, val_list))\n",
    "    print(results)\n",
    "    "
   ]
  },
  {
   "cell_type": "code",
   "execution_count": 19,
   "metadata": {
    "scrolled": false
   },
   "outputs": [
    {
     "data": {
      "text/html": [
       "<div style=\"width:100%;\"><div style=\"position:relative;width:100%;height:0;padding-bottom:60%;\"><span style=\"color:#565656\">Make this Notebook Trusted to load map: File -> Trust Notebook</span><iframe src=\"about:blank\" style=\"position:absolute;width:100%;height:100%;left:0;top:0;border:none !important;\" data-html=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 onload=\"this.contentDocument.open();this.contentDocument.write(atob(this.getAttribute('data-html')));this.contentDocument.close();\" allowfullscreen webkitallowfullscreen mozallowfullscreen></iframe></div></div>"
      ],
      "text/plain": [
       "<folium.folium.Map at 0x1b041f17f10>"
      ]
     },
     "execution_count": 19,
     "metadata": {},
     "output_type": "execute_result"
    }
   ],
   "source": [
    "## Folium map - optional\n",
    "m"
   ]
  },
  {
   "cell_type": "code",
   "execution_count": 20,
   "metadata": {},
   "outputs": [],
   "source": [
    "# Calculate the % of WFHC for the fire\n",
    "def roundCalc(rs,x,total):\n",
    "    if rs[0][x] == 0:\n",
    "        y = 0\n",
    "    else:\n",
    "        y = (rs[0][x]/total)*100\n",
    "    x = round(y)\n",
    "    return x\n",
    "\n",
    "# Round to 1 decimal place\n",
    "def rCalc(rs,x,total):\n",
    "    if rs[0][x] == 0:\n",
    "        y = 0\n",
    "    else:\n",
    "        y = (rs[0][x]/total)*100\n",
    "    x = round(y,1)\n",
    "    return x"
   ]
  },
  {
   "cell_type": "code",
   "execution_count": 21,
   "metadata": {},
   "outputs": [],
   "source": [
    "## Stats for marketing\n",
    "\n",
    "# Tif file names\n",
    "append = ['_wfhs.tif','_fuel.tif','_slope.tif','_access.tif']\n",
    "firename_string = x+\"_\"+str(date)\n",
    "\n",
    "# Create fire tifs\n",
    "for v in append:\n",
    "    tif, outtif = os.path.join(basetif,state,state+v), os.path.join(basepath,firename_string+v)\n",
    "    intif, outfire = str('\"' +tif+'\"'),str('\"' +outtif+'\"')\n",
    "    cmd = \"gdalwarp -cutline \"+ infireshp +\" -crop_to_cutline -dstnodata 255 -overwrite \" + intif + \" \" +  outfire \n",
    "    # remove -dstalpha alpha band for symbology in arcmap, add for visualizing with folium\n",
    "    os.system(cmd)"
   ]
  },
  {
   "cell_type": "code",
   "execution_count": 22,
   "metadata": {},
   "outputs": [
    {
     "name": "stdout",
     "output_type": "stream",
     "text": [
      "Negligible: 0.6%\n",
      "Low: 1.4%\n",
      "Moderate: 10.2%\n",
      "High: 75.3%\n",
      "Extreme: 12.6%\n",
      "\n",
      "F0: 0%\n",
      "F1: 40.2%\n",
      "F3: 32.8%\n",
      "NF: 2.3%\n",
      "F5: 24.5%\n",
      "WA: 0.3%\n",
      "\n",
      "S1: 3.3%\n",
      "S2: 28.1%\n",
      "S3: 49.9%\n",
      "S5: 18.8%\n",
      "\n",
      "A0: 97.6%\n",
      "A1: 1.6%\n",
      "A3: 0.4%\n",
      "A5: 0.4%\n",
      "\n",
      "As of 09-30-2020, the Glass Fire has burned approximately 50962.0 acres in CA according to NIFC perimeter data. FireLine has determined that approximately 87.9% of the area is in High or Extreme risk categories.\n"
     ]
    }
   ],
   "source": [
    "## Maintain order of the values/variables in the lists below\n",
    "## Be sure to check for significant non-burnable/negligible areas - remove from analysis\n",
    "\n",
    "# Order of the score below correspond to raster values 0,1,2,3,4,5,6. 'null' if score/value does not exist\n",
    "wfhs = ['Negligible','Low','Moderate','High','Extreme','null']\n",
    "fuel = ['F0','F1','null','F3','NF','F5','WA']\n",
    "slope = ['null','S1','S2','S3','null','S5','null']\n",
    "access = ['A0','A1','null','A3','null','A5','null']\n",
    "\n",
    "variables = [wfhs,fuel,slope,access]\n",
    "variable_list = ['wfhs','fuel','slope','access'] # Values are placeholders for calculated stats\n",
    "\n",
    "# Open each score raster and calculate the score distribution\n",
    "n = 0\n",
    "print_list = pd.DataFrame(columns=['Score','Value','pct'])\n",
    "for v in append:\n",
    "    varname_list = variables[n]\n",
    "    outtif = os.path.join(basepath,firename_string+v)\n",
    "    if os.path.exists(outtif):\n",
    "        with rasterio.open(outtif) as src:\n",
    "            if varname_list == wfhs:# Reclassify WFHS only\n",
    "                reclassify(src)\n",
    "            else:\n",
    "                img = src.read(1)\n",
    "\n",
    "            # calculate the pixel count for each score category\n",
    "            r = []\n",
    "            val_list = [0, 1, 2, 3, 4, 5, 6] \n",
    "            r.append(pixelCount(img, val_list))\n",
    "\n",
    "            # Get total number of pixels to divide by\n",
    "            t = r[0][0]+r[0][1]+r[0][2]+r[0][3]+r[0][4]+r[0][5]+r[0][6]\n",
    "\n",
    "            # Calculate the % of each value and reassign each score category to variable_list\n",
    "            v0,v1,v2,v3,v4,v5,v6 = rCalc(r,0,t),rCalc(r,1,t),rCalc(r,2,t),rCalc(r,3,t),rCalc(r,4,t),rCalc(r,5,t),rCalc(r,6,t)\n",
    "            vname = variable_list[n] \n",
    "            variable_list[n] = [v0,v1,v2,v3,v4,v5,v6]   \n",
    "\n",
    "            # Print the % in each score category formatted for marketing\n",
    "            y = 0\n",
    "            for var in varname_list:\n",
    "                if varname_list[y] == 'null':\n",
    "                    a=1 # skip 'null'\n",
    "                else:\n",
    "                    print(str(varname_list[y])+\": \"+str(variable_list[n][y])+\"%\")\n",
    "                    print_list = print_list.append({'Score': vname,'Value': (str(varname_list[y])),'pct': (str(variable_list[n][y]))}, ignore_index=True)\n",
    "\n",
    "                # Get high & extreme pct\n",
    "                if varname_list[y] == 'High':\n",
    "                    High = variable_list[n][y]\n",
    "                if varname_list[y] == 'Extreme':\n",
    "                    Ext = variable_list[n][y]\n",
    "                y = y + 1\n",
    "    else:\n",
    "        print(state + v + ' does not exist')\n",
    "            \n",
    "    n = n + 1\n",
    "    print('')\n",
    "\n",
    "# Combine High & Extreme for marketing snippet\n",
    "highext = round(High + Ext,2)\n",
    "\n",
    "marketing = 'As of ' + date + ', the '+ str(firename)+ ' Fire has burned approximately ' + str(round(fire.iloc[0].GISAcres,0))+ ' acres in ' + state +' according to NIFC perimeter data.'\n",
    "risk = 'FireLine has determined that approximately ' +str(highext)+'% of the area is in High or Extreme risk categories.'\n",
    "print(marketing,risk)\n",
    "\n",
    "print_list = print_list.append({'Score': marketing,'Value': risk}, ignore_index=True)\n",
    "print_list.to_csv(os.path.join(basepath, firename_string+'_scores.csv'), index=False)\n",
    "\n",
    "# If Negligible risk category accounts for a large portion of the perimeter, check for/remove non-burnable areas"
   ]
  },
  {
   "cell_type": "code",
   "execution_count": 23,
   "metadata": {},
   "outputs": [
    {
     "name": "stdout",
     "output_type": "stream",
     "text": [
      "Glass\n"
     ]
    }
   ],
   "source": [
    "# Reset fire name for command line arguments in MXD creation script\n",
    "print(firename)\n",
    "if firename != fire.iloc[0].IncidentName:\n",
    "    firename = fire.iloc[0].IncidentName\n"
   ]
  },
  {
   "cell_type": "code",
   "execution_count": 25,
   "metadata": {},
   "outputs": [
    {
     "data": {
      "text/plain": [
       "0"
      ]
     },
     "execution_count": 25,
     "metadata": {},
     "output_type": "execute_result"
    }
   ],
   "source": [
    "# Create the MXD and pdf map\n",
    "fuel = \"c:/python27/arcgis10.5/python Z:\\FirePerimeters\\CreateMXD_Fuels.py \" + fireyear +\" \"+ state +\" \"+ '\"'+firename+ '\"'\n",
    "wfhs = \"c:/python27/arcgis10.5/python Z:\\FirePerimeters\\CreateMXD_WFHS.py \" + fireyear +\" \"+ state +\" \"+ '\"'+firename+ '\"'\n",
    "\n",
    "os.system(wfhs)"
   ]
  },
  {
   "cell_type": "code",
   "execution_count": null,
   "metadata": {},
   "outputs": [],
   "source": []
  }
 ],
 "metadata": {
  "kernelspec": {
   "display_name": "Python 3 (ipykernel)",
   "language": "python",
   "name": "python3"
  },
  "language_info": {
   "codemirror_mode": {
    "name": "ipython",
    "version": 3
   },
   "file_extension": ".py",
   "mimetype": "text/x-python",
   "name": "python",
   "nbconvert_exporter": "python",
   "pygments_lexer": "ipython3",
   "version": "3.11.3"
  }
 },
 "nbformat": 4,
 "nbformat_minor": 4
}
