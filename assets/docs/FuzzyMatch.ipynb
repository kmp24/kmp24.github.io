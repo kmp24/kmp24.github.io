{
 "cells": [
  {
   "cell_type": "markdown",
   "metadata": {},
   "source": [
    "#### This is a tool to increase successful matches when joing two tables of messy data - in this case, address data.\n",
    "#### Instead of matching my list of addresses against a table of 3 million records one at a time (this would take a whole day), I decided to create two new subset dataframes based on concatenated address+zipcode or address+city to speed up matching (One hour!)\n",
    "#### The fuzzy matching algorithms from fuzzywuzzy matches the % of a string that matches. I found this to be sufficient for my address data."
   ]
  },
  {
   "cell_type": "code",
   "execution_count": null,
   "metadata": {},
   "outputs": [],
   "source": [
    "import os, warnings\n",
    "import pandas as pd, numpy as np\n",
    "from fuzzywuzzy import process, fuzz"
   ]
  },
  {
   "cell_type": "code",
   "execution_count": null,
   "metadata": {},
   "outputs": [],
   "source": [
    "path = r'D:\\data\\taxdata'\n",
    "big_list = 'tax_data.csv'\n",
    "little_list = 'addresses_to_match.csv'\n",
    "# Set the threshold for percent string match to 75%\n",
    "thresh = 75\n",
    "\n",
    "big_listdata = os.path.join(path, big_list)\n",
    "little_listdata = os.path.join(path, little_list)"
   ]
  },
  {
   "cell_type": "code",
   "execution_count": null,
   "metadata": {},
   "outputs": [],
   "source": [
    "# Import the data and create dataframes\n",
    "big_list = pd.read_csv(big_listdata,delimiter=',', low_memory=False)\n",
    "little_list = pd.read_csv(little_listdata,delimiter=',', low_memory=False)\n",
    "\n",
    "big_list  = pd.DataFrame(big_list)\n",
    "little_list = pd.DataFrame(little_list)"
   ]
  },
  {
   "cell_type": "code",
   "execution_count": null,
   "metadata": {},
   "outputs": [],
   "source": [
    "# I also decided to trim the larger file to just the necessary columns - the file had over 100 fields.\n",
    "big_list = big_list[[\"assessors_parcel_number_apn_pin\",\"property_full_street_address\",\"property_city_name\",\"property_state\",\"property_zip_code\"]]"
   ]
  },
  {
   "cell_type": "code",
   "execution_count": null,
   "metadata": {},
   "outputs": [],
   "source": [
    "# Define fields for matching and concatenate them with the address\n",
    "# Pick address or city, depending on the quality of data. Seperate fields with a ',' delimeter\n",
    "big_list ['fulladdress'] = big_list['property_full_street_address'].astype(str) + \",\" + big_list['property_city_name'].astype(str)\n",
    "little_list ['fulladdress'] = little_list['Address'].astype(str) + \",\" + little_list['city'].astype(str)\n",
    "\n",
    "# Make all values lowercase for better matching\n",
    "big_list = big_list.apply(lambda x: x.astype(str).str.lower())\n",
    "little_list = little_list.apply(lambda x: x.astype(str).str.lower())"
   ]
  },
  {
   "cell_type": "code",
   "execution_count": null,
   "metadata": {},
   "outputs": [],
   "source": [
    "# Create a seperate list of the cities (or zipcodes) - later subset the dataframes based on this list\n",
    "citylist = list(little_list.city)"
   ]
  },
  {
   "cell_type": "code",
   "execution_count": null,
   "metadata": {},
   "outputs": [],
   "source": [
    "# a function to remove the duplicates in the list of cities - don't need to do the same city twice\n",
    "def Remove(duplicate): \n",
    "    final_list = [] \n",
    "    for num in duplicate: \n",
    "        if num not in final_list: \n",
    "            final_list.append(num) \n",
    "    return final_list"
   ]
  },
  {
   "cell_type": "code",
   "execution_count": null,
   "metadata": {},
   "outputs": [],
   "source": [
    "citylist = Remove(citylist)\n",
    "print citylist"
   ]
  },
  {
   "cell_type": "code",
   "execution_count": null,
   "metadata": {},
   "outputs": [],
   "source": [
    "# Here is the function that will do the matching. \n",
    "def match_address(name, list_addresses, min_score=0):\n",
    "    # -1 score if no match\n",
    "    max_score = -1\n",
    "    # Return empty address for no match\n",
    "    max_address = \"\"\n",
    "    # Iternating over all addresses in the other file\n",
    "    for address2 in list_addresses:\n",
    "        # Finding fuzzy match score\n",
    "        score = fuzz.ratio(address, address2)\n",
    "        # Checking if the match is above the threshold\n",
    "        if (score > min_score) & (score > max_score):\n",
    "            max_address = address2\n",
    "            max_score = score\n",
    "    return (max_address, max_score)"
   ]
  },
  {
   "cell_type": "code",
   "execution_count": null,
   "metadata": {},
   "outputs": [],
   "source": [
    "# Time to create some matches:\n",
    "new_list = []\n",
    "for city in citylist:\n",
    "    # create df for each city to speed up matching\n",
    "    big_list2 = big_list.loc[big_list['property_city_name'] == city] # Change the field name used for zipcode matching\n",
    "    little_list2 = little_list.loc[little_list['city'] == city]\n",
    "    print big_list2.head()\n",
    "    for address in little_list2.fulladdress:\n",
    "        # Find the best match using a set threshold - 75% seems to yield the best results\n",
    "        print address\n",
    "        match = match_address(address, big_list2.fulladdress, thresh)\n",
    "        # New dict for storing data\n",
    "        newaddress = {}\n",
    "        newaddress.update({\"db_address\" : address})\n",
    "        newaddress.update({\"big_list_address\" : match[0]})\n",
    "        newaddress.update({\"score\" : match[1]})\n",
    "        new_list.append(newaddress)"
   ]
  },
  {
   "cell_type": "code",
   "execution_count": null,
   "metadata": {},
   "outputs": [],
   "source": [
    "# create the new table\n",
    "merge_table = pd.DataFrame(new_list)"
   ]
  },
  {
   "cell_type": "code",
   "execution_count": null,
   "metadata": {},
   "outputs": [],
   "source": [
    "# I output these to a csv to review them manually\n",
    "# This can be expanded upon further to join the data post-matching, depending on needs\n",
    "merge_table.to_csv('output_matches.csv')"
   ]
  }
 ],
 "metadata": {
  "kernelspec": {
   "display_name": "Python 2",
   "language": "python",
   "name": "python2"
  },
  "language_info": {
   "codemirror_mode": {
    "name": "ipython",
    "version": 2
   },
   "file_extension": ".py",
   "mimetype": "text/x-python",
   "name": "python",
   "nbconvert_exporter": "python",
   "pygments_lexer": "ipython2",
   "version": "2.7.15"
  }
 },
 "nbformat": 4,
 "nbformat_minor": 2
}
