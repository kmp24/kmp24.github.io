{
 "cells": [
  {
   "cell_type": "markdown",
   "metadata": {},
   "source": [
    "#### The problem: I have a set of thousands of polygons, which I need to summarize the percent of coverage from a very large (2GB)  raster. Zonal statistics tools can't be used; if a raster cell slightly overlaps one of the polygons, the entire pixel is counted in the statistics and the data are categorical.\n",
    "\n",
    "#### The method is to create an individual raster for the each polygon (which end up being 1kb size) by getting the area, storing the data for each value as an array, and then creating a second array for the same clipped raster to join the values to the resulting area for that pixel in a pandas dataframe."
   ]
  },
  {
   "cell_type": "code",
   "execution_count": null,
   "metadata": {},
   "outputs": [],
   "source": [
    "import pycrs\n",
    "from pycrs import parser\n",
    "import fiona\n",
    "from fiona.crs import from_epsg\n",
    "from rasterio.crs import CRS\n",
    "from rasterio.mask import mask\n",
    "import rasterio\n",
    "from shapely.geometry import box\n",
    "import geopandas as gpd\n",
    "import os\n",
    "import numpy as np\n",
    "import pandas as pd"
   ]
  },
  {
   "cell_type": "code",
   "execution_count": null,
   "metadata": {},
   "outputs": [],
   "source": [
    "# the files to be processed\n",
    "# ensure the tif & vector data are projected, to correctly calculate area.\n",
    "data_dir = r'D:\\data'    \n",
    "rasterfile = os.path.join(r\"D:\\Data\\mytif.tif\")\n",
    "pdata = gpd.GeoDataFrame.from_file(os.path.join(data_dir,'polygons.gpkg'))\n",
    "\n",
    "#directory for output tiffs\n",
    "ddir = r'D:\\data\\output'\n"
   ]
  },
  {
   "cell_type": "code",
   "execution_count": null,
   "metadata": {},
   "outputs": [],
   "source": [
    "def getFeatures(gdf):\n",
    "    # Function to parse features from GeoDataFrame in such a manner that rasterio wants them\n",
    "    import json\n",
    "    return [json.loads(gdf.to_json())['features'][0]['geometry']]"
   ]
  },
  {
   "cell_type": "code",
   "execution_count": null,
   "metadata": {},
   "outputs": [],
   "source": [
    "# Create a new, smaller tif for each polygon in the dataset to speed up processing\n",
    "# get the bounding box for each polygon in the geodataframe\n",
    "pdata['minx'], pdata['miny'], pdata['maxx'], pdata['maxy'] = pdata.bounds['minx'], pdata.bounds['miny'],pdata.bounds['maxx'],pdata.bounds['maxy']\n",
    "\n",
    "n = 0\n",
    "\n",
    "with rasterio.open(rasterfile) as src:\n",
    "    for feat in pdata.iterrows():\n",
    "        # subset the gdf to process one polygon at a time\n",
    "        gdf = pdata.iloc[n]\n",
    "        n = n + 1\n",
    "        out_name = gdf['id']\n",
    "        \n",
    "        # create bounding box to clip raster\n",
    "        minx, miny, maxx, maxy = gdf['minx'], gdf['miny'], gdf['maxx'], gdf['maxy']\n",
    "        bbox = box(minx, miny, maxx, maxy)\n",
    "        geo = gpd.GeoDataFrame({'geometry': bbox}, index=[0], crs=from_epsg(32610))\n",
    "        coords = getFeatures(geo)\n",
    "        \n",
    "        # clip the raster based on the extent of the polygon\n",
    "        print n, coords\n",
    "        out_img, out_transform = mask(src, coords, crop=True, filled=False)\n",
    "        \n",
    "        # update metadata\n",
    "        out_meta = src.meta.copy()\n",
    "        crs = fiona.crs.from_epsg(32610)\n",
    "        out_meta.update({\"driver\": \"GTiff\", \"height\": out_img.shape[1],\"width\": out_img.shape[2],\"transform\": out_transform,\"crs\": crs})\n",
    "        \n",
    "        # output the tiff\n",
    "        out_tif = os.path.join(data_dir, 'tiffs',str(out_name)+'.tiff')\n",
    "        with rasterio.open(out_tif, \"w\", **out_meta) as dest:\n",
    "            dest.write(out_img)\n",
    "        "
   ]
  },
  {
   "cell_type": "code",
   "execution_count": null,
   "metadata": {},
   "outputs": [],
   "source": [
    "# Solution implemented from \n",
    "# https://gis.stackexchange.com/questions/281310/creating-a-raster-of-percent-of-pixel-occupied-from-shapefile/281343#281343\n",
    "import ogr\n",
    "def fractional_pixel_weights(fsrc, geom):\n",
    "\n",
    "    gt = fsrc.transform\n",
    "    xs = np.arange(gt[2], gt[2] +  gt[0]* (1 + fsrc.shape[1]), gt[0])\n",
    "    ys = np.arange(gt[5], gt[5] +  gt[4]* (1 + fsrc.shape[0]), gt[4])\n",
    "\n",
    "    # Convert geom into ogr geometry\n",
    "    geom_ogr = ogr.CreateGeometryFromWkt(geom.to_wkt())\n",
    "\n",
    "    # Loop through each grid cell, compute the intersecting area\n",
    "    overlapping_areas = np.empty((len(ys)-1, len(xs)-1))\n",
    "    for ix in range(len(xs)-1):\n",
    "        xmin = xs[ix]\n",
    "        xmax = xs[ix + 1]\n",
    "        for iy in range(len(ys)-1):\n",
    "            ymax = ys[iy]\n",
    "            ymin = ys[iy + 1]\n",
    "\n",
    "            # Intersecting area\n",
    "            coords_wkt = \"POLYGON ((\" + str(xmin) + ' ' + str(ymax) + ', ' + str(xmax) + ' ' + str(ymax) + ', ' + str(xmax) + ' ' + str(ymin) + ', ' + str(xmin) + ' ' + str(ymin) + ', ' + str(xmin) + ' ' + str(ymax) + \"))\"\n",
    "            polycell = ogr.CreateGeometryFromWkt(coords_wkt)\n",
    "\n",
    "            overlapping_areas[iy, ix] = polycell.Intersection(geom_ogr).Area()\n",
    "            \n",
    "\n",
    "    # Ratio of overlapped area to pixel area\n",
    "    #frac_intersected = (overlapping_areas / (abs(gt[0] * gt[4])))\n",
    "    \n",
    "    # Area of overlap polygon/pixels - 30m resolution\n",
    "    frac_intersected = (overlapping_areas / (abs(gt[0] * gt[4]))) * 900\n",
    "\n",
    "    return frac_intersected"
   ]
  },
  {
   "cell_type": "code",
   "execution_count": null,
   "metadata": {},
   "outputs": [],
   "source": [
    "from osgeo import gdal\n",
    "import sys\n",
    "\n",
    "n = 0\n",
    "area_totals = pd.DataFrame()\n",
    "df = pd.DataFrame()\n",
    "\n",
    "for feat in pdata.iterrows():\n",
    "    # subset the gdf to process one polygon at a time\n",
    "    gdf = pdata.iloc[n]\n",
    "    fileid = gdf['id']\n",
    "    \n",
    "    # Open the clipped raster\n",
    "    raster = rasterio.open(os.path.join(ddir, fileid +'.tiff'))\n",
    "    \n",
    "    # Set the geometry field to the polygon to be analyzed\n",
    "    geofield = gdf['geometry']\n",
    "    \n",
    "    # Get pixel % coverage\n",
    "    x = fractional_pixel_weights(raster, geofield)\n",
    "    \n",
    "    # Open the raster again to get the corresponding values in an array format\n",
    "    raster = gdal.Open(os.path.join(ddir, fileid +'.tiff'))\n",
    "    rarray = np.array(raster.GetRasterBand(1).ReadAsArray())\n",
    "    \n",
    "    np.set_printoptions(precision=2)\n",
    "    print fileid#, x, rarray\n",
    "    \n",
    "    n = n + 1\n",
    "    \n",
    "    # Now iterate through each cell in both arrays and summarize the area for each category value per pixel\n",
    "    nums = len(x)\n",
    "    k = 0\n",
    "    \n",
    "    for ynum in range(0,nums):\n",
    "        for xnum in range(0,nums):\n",
    "            try:\n",
    "                category = rarray[xnum,ynum]\n",
    "                print str(xnum) +','+str(ynum)\n",
    "                categoryarea = x[xnum,ynum]\n",
    "                #print category, categoryarea\n",
    "                \n",
    "                df['Cateogry'] = category\n",
    "                df['Area'] = categoryarea\n",
    "                df['recID'] = fileid\n",
    "                k = k + 1\n",
    "                \n",
    "                areatotals = df.append(pd.Series([k,category,categoryarea,fileid], index=df.columns), ignore_index=True)\n",
    "                \n",
    "                print str(k) + ' iterations'\n",
    "            except IndexError as e:\n",
    "                print 'next'\n",
    "            area_totals = pd.concat([areatotals,area_totals])\n",
    "            print area_totals.head()"
   ]
  },
  {
   "cell_type": "code",
   "execution_count": null,
   "metadata": {},
   "outputs": [],
   "source": [
    "updated_totals = area_totals.groupby(['recID','Category'], as_index=False)[['Area']].sum()"
   ]
  },
  {
   "cell_type": "code",
   "execution_count": null,
   "metadata": {},
   "outputs": [],
   "source": [
    "# pivot the values to get a table with the area for each category value by polygon id\n",
    "update_totals = updated_totals.pivot(index=updated_totals.recID, columns='Category')['Area'].fillna(0)\n",
    "print update_totals.head(20)\n",
    "update_totals.to_csv(os.path.joins(data_dir,'pixel_summary.csv', index=False, sep=',')"
   ]
  }
 ],
 "metadata": {
  "kernelspec": {
   "display_name": "Python 2",
   "language": "python",
   "name": "python2"
  },
  "language_info": {
   "codemirror_mode": {
    "name": "ipython",
    "version": 2
   },
   "file_extension": ".py",
   "mimetype": "text/x-python",
   "name": "python",
   "nbconvert_exporter": "python",
   "pygments_lexer": "ipython2",
   "version": "2.7.15"
  }
 },
 "nbformat": 4,
 "nbformat_minor": 2
}
